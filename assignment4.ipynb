{
 "cells": [
  {
   "cell_type": "markdown",
   "metadata": {},
   "source": [
    "# Assignment 4\n",
    "Shubhaankar Sharma (88601356)"
   ]
  },
  {
   "cell_type": "markdown",
   "metadata": {},
   "source": [
    "### Q1(b)"
   ]
  },
  {
   "cell_type": "markdown",
   "metadata": {},
   "source": [
    "v(0) = 1*sin(0) = 0\n",
    "\n",
    "v(1) = e\\*sin(2*pi) = 0\n",
    "\n",
    "Hence, v satisifies the boundary conditions"
   ]
  },
  {
   "cell_type": "code",
   "execution_count": 7,
   "metadata": {},
   "outputs": [
    {
     "data": {
      "text/plain": [
       "v (generic function with 1 method)"
      ]
     },
     "execution_count": 7,
     "metadata": {},
     "output_type": "execute_result"
    }
   ],
   "source": [
    "v(x) = exp(2*x)*sin(2*pi*x)"
   ]
  },
  {
   "cell_type": "code",
   "execution_count": null,
   "metadata": {},
   "outputs": [],
   "source": [
    "using Plots\n",
    "\n",
    "n = 1_000_000\n",
    "h = 1/(n+1)\n",
    "x = [i*h for i in 0:(n+1)]\n",
    "v_e = v.(x)\n",
    "\n",
    "plot(x, v_e)"
   ]
  },
  {
   "cell_type": "markdown",
   "metadata": {},
   "source": [
    "### Q1(c)"
   ]
  },
  {
   "cell_type": "code",
   "execution_count": null,
   "metadata": {},
   "outputs": [],
   "source": [
    "v_d(x) = 2*exp(2*x)*sin(2*pi*x) + exp(2*x)*(2*pi)*cos(2*pi*x)\n",
    "v_dd(x) = 4*exp(2*x)*sin(2*pi*x) + 2*exp(2*x)*(2*pi)*cos(2*pi*x) + 2*exp(2*x)*(2*pi)*cos(2*pi*x) + exp(2*x)((2*pi)^2)*(-sin(2*pi*x))\n",
    "sigm = 500_000\n",
    "g_f(x) = -v_dd(x) + sigm*v_d(x)\n",
    "g = g_f.(x)\n",
    "plot(x, g)"
   ]
  },
  {
   "cell_type": "markdown",
   "metadata": {},
   "source": [
    "### Q1(d)"
   ]
  },
  {
   "cell_type": "code",
   "execution_count": null,
   "metadata": {},
   "outputs": [],
   "source": [
    "using SparseArrays\n",
    "using LinearAlgebra\n",
    "\n",
    "beta = sigm*h/2\n",
    "\n",
    "main_diag = fill(2/(h^2), n)\n",
    "super_diag = fill((-1+beta)/(h^2), n-1)\n",
    "sub_diag = fill((-1-beta)/(h^2), n-1)\n",
    "\n",
    "A = spdiagm(\n",
    "    -1 => sub_diag,\n",
    "    0 => main_diag,\n",
    "    1 => super_diag\n",
    ")\n",
    "\n",
    "v = A\\g"
   ]
  },
  {
   "cell_type": "code",
   "execution_count": null,
   "metadata": {},
   "outputs": [],
   "source": []
  }
 ],
 "metadata": {
  "kernelspec": {
   "display_name": "Julia 1.11.1",
   "language": "julia",
   "name": "julia-1.11"
  },
  "language_info": {
   "file_extension": ".jl",
   "mimetype": "application/julia",
   "name": "julia",
   "version": "1.11.1"
  }
 },
 "nbformat": 4,
 "nbformat_minor": 2
}
