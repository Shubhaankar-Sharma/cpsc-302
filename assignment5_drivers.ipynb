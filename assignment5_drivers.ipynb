{
 "cells": [
  {
   "cell_type": "markdown",
   "metadata": {},
   "source": [
    "# Drivers for Assignment 5 - CPSC 302 - Winter 1 - 2024"
   ]
  },
  {
   "cell_type": "code",
   "execution_count": null,
   "metadata": {},
   "outputs": [],
   "source": [
    "function StationaryMethod(A, b, M, itermax, tol, x)\n",
    "    # Apply a stationary method to a linear system\n",
    "    #\n",
    "    # Input:\n",
    "    # A - matrix\n",
    "    # b - right-hand side vector\n",
    "    # M - matrix associated with splitting (determines the method)\n",
    "    # itermax - maximum allowed number of iterations\n",
    "    # tol - convergence threshold: terminate if relative residual norm goes below\n",
    "    # x - initial guess\n",
    "    #\n",
    "    # Output:\n",
    "    # x - numerical solution (initial guess is overwritten)\n",
    "    # i_max - iteration count\n",
    "    # t - CPU time taken (in seconds)\n",
    "    # resvec - residual norm convergence history\n",
    "\n",
    "    resvec = zeros(itermax) # Allocate space for convergence history\n",
    "    nb = norm(b - A * x)    # Initial residual\n",
    "    t_start = time()        # Record start time\n",
    "    i_max=itermax\n",
    "    for i in 1:itermax\n",
    "        r = b - A * x                # Update residual\n",
    "        resvec[i] = norm(r) / nb     # Relative residual norm\n",
    "\n",
    "        # Terminate loop if stopping criterion is satisfied:\n",
    "        if resvec[i] < tol\n",
    "            resvec = resvec[1:i]     # Trim unused space in `resvec`\n",
    "            i_max=i\n",
    "            break\n",
    "        end\n",
    "\n",
    "        x = x + M \\ r                # Next iterate\n",
    "    end\n",
    "\n",
    "    t_total = time() - t_start       # Compute total CPU time\n",
    "\n",
    "    return x, i_max, t_total, resvec\n",
    "end\n"
   ]
  },
  {
   "cell_type": "code",
   "execution_count": null,
   "metadata": {},
   "outputs": [],
   "source": [
    "# Script: Apply the Jacobi and Gauss-Seidel methods to a linear system\n",
    "\n",
    "using LinearAlgebra, SparseArrays\n",
    "using Plots  # Ensure the Plots.jl package is installed\n",
    "\n",
    "# Problem setup\n",
    "n = 100\n",
    "Δ=spdiagm(-1=> -1*ones(n-1),0=> 2*ones(n),1=> -1*ones(n-1))\n",
    "D_xx = kron(Δ, sparse(I,n,n))\n",
    "D_yy = kron(sparse(I,n,n),Δ)\n",
    "A = D_xx + D_yy\n",
    "n2 = size(A, 1)\n",
    "b = A * ones(n2)               # Right-hand side vector\n",
    "x = zeros(n2)                  # Initial guess\n",
    "itermax = 100000               # Maximum iterations\n",
    "tol = 1e-8                     # Convergence tolerance\n",
    "\n",
    "# Jacobi iteration\n",
    "D = Diagonal(diagm(0 => diag(A)))  # M = D for Jacobi\n",
    "xJ, iterJac, tJ, resvecJ = StationaryMethod(A, b, D, itermax, tol, x)\n",
    "println(\"CPU time for Jacobi: $tJ seconds\")\n",
    "println(\"Iteration count for Jacobi: $iterJac iterations\")\n",
    "\n",
    "# Gauss-Seidel iteration\n",
    "E = LowerTriangular(A)         # M = E for Gauss-Seidel\n",
    "xGS, iterGS, tGS, resvecGS = StationaryMethod(A, b, E, itermax, tol, x)\n",
    "println(\"CPU time for Gauss-Seidel: $tGS seconds\")\n",
    "println(\"Iteration count for Gauss-Seidel: $iterGS iterations\")\n",
    "\n",
    "# Plot convergence history\n",
    "plot(1:length(resvecJ), resvecJ, yscale=:log10, label=\"Jacobi\", xlabel=\"Iterations\", ylabel=\"Relative residual norm\", lw=2)\n",
    "plot!(1:length(resvecGS), resvecGS, label=\"Gauss-Seidel\", color=:red, lw=2)\n"
   ]
  }
 ],
 "metadata": {
  "kernelspec": {
   "display_name": "Julia 1.10.3",
   "language": "julia",
   "name": "julia-1.10"
  },
  "language_info": {
   "file_extension": ".jl",
   "mimetype": "application/julia",
   "name": "julia",
   "version": "1.10.3"
  }
 },
 "nbformat": 4,
 "nbformat_minor": 2
}
