{
 "cells": [
  {
   "cell_type": "markdown",
   "metadata": {
    "vscode": {
     "languageId": "plaintext"
    }
   },
   "source": [
    "### CPSC 302 - Assignment 3\n",
    "Shubhaankar Sharma (88601356)\n"
   ]
  },
  {
   "cell_type": "markdown",
   "metadata": {},
   "source": [
    "#### Question 1"
   ]
  },
  {
   "cell_type": "code",
   "execution_count": 37,
   "metadata": {},
   "outputs": [
    {
     "data": {
      "text/plain": [
       "5×5 Matrix{Float64}:\n",
       " 10.0  -1.0   2.0   0.0   3.0\n",
       " -1.0  11.0  -1.0   3.0   4.0\n",
       "  2.0  -1.0  10.0  -1.0   1.0\n",
       "  0.0   3.0  -1.0   8.0   2.0\n",
       "  3.0   4.0   1.0   2.0  12.0"
      ]
     },
     "metadata": {},
     "output_type": "display_data"
    },
    {
     "data": {
      "text/plain": [
       "5×5 Matrix{Float64}:\n",
       " 10.0  -1.0   2.0       0.0       3.0\n",
       "  0.0  10.9  -0.8       3.0       4.3\n",
       "  0.0   0.0   9.54128  -0.779817  0.715596\n",
       "  0.0   0.0   0.0       7.11058   0.875\n",
       "  0.0   0.0   0.0       0.0       9.24233"
      ]
     },
     "metadata": {},
     "output_type": "display_data"
    }
   ],
   "source": [
    "function gaussian_elimination(A::Matrix, b::Vector)\n",
    "    n = size(A)[1]\n",
    "    for k = 1:n-1\n",
    "        for i = k+1:n\n",
    "            factor = A[i,k]/A[k,k]\n",
    "            A[i,k] = 0\n",
    "            for j = k+1:n\n",
    "                A[i,j] = A[i,j] - factor*A[k,j]\n",
    "            end\n",
    "            b[i] = b[i] - factor*b[k]\n",
    "        end\n",
    "    end\n",
    "\n",
    "    return A, b\n",
    "end\n",
    "\n",
    "A = Float64[10 -1 2 0 3; -1 11 -1 3 4; 2 -1 10 -1 1; 0 3 -1 8 2; 3 4 1 2 12]\n",
    "b = Float64[0, 0, 0, 0, 0]\n",
    "display(A)\n",
    "A_upper, b_new = gaussian_elimination(A, b)\n",
    "display(A_upper)"
   ]
  },
  {
   "cell_type": "markdown",
   "metadata": {},
   "source": [
    "### Question 2 b"
   ]
  },
  {
   "cell_type": "code",
   "execution_count": 50,
   "metadata": {},
   "outputs": [
    {
     "data": {
      "text/plain": [
       "3×3 Matrix{Float64}:\n",
       " 1.0  0.0  0.0\n",
       " 0.4  1.0  0.0\n",
       " 0.2  0.5  1.0"
      ]
     },
     "metadata": {},
     "output_type": "display_data"
    },
    {
     "data": {
      "text/plain": [
       "3×3 Matrix{Float64}:\n",
       " 5.0  -1.0  -5.0\n",
       " 0.0  -3.6   6.0\n",
       " 0.0   0.0  -1.0"
      ]
     },
     "metadata": {},
     "output_type": "display_data"
    },
    {
     "data": {
      "text/plain": [
       "3-element Vector{Int64}:\n",
       " 2\n",
       " 3\n",
       " 1"
      ]
     },
     "metadata": {},
     "output_type": "display_data"
    }
   ],
   "source": [
    "import LinearAlgebra;\n",
    "\n",
    "A = Float64[1 -2 1; 5 -1 -5;2 -4 4]\n",
    "l = LinearAlgebra.lu(A)\n",
    "display(l.L)\n",
    "display(l.U)\n",
    "display(l.p)"
   ]
  },
  {
   "cell_type": "markdown",
   "metadata": {},
   "source": [
    "### Question 3\n",
    "\n",
    "(a) Julia Code to generate 1,000,000 tridiagonal matrix\n",
    "```julia\n",
    "using LinearAlgebra\n",
    "\n",
    "n = 1000000\n",
    "m = diagm(-1 => rand(n-1),\n",
    "           0 => rand(n),\n",
    "           1 => rand(n-1))\n",
    "```\n",
    "Output on terminal: `[1]  + 5786 killed     julia`\n",
    "\n",
    "(d)"
   ]
  },
  {
   "cell_type": "code",
   "execution_count": 19,
   "metadata": {},
   "outputs": [
    {
     "data": {
      "text/plain": [
       "solve_tri (generic function with 1 method)"
      ]
     },
     "execution_count": 19,
     "metadata": {},
     "output_type": "execute_result"
    }
   ],
   "source": [
    "function solve_tri(b, main_diag, super_diag, sub_diag)\n",
    "    n = length(b)\n",
    "    x = zeros(n)\n",
    "    p = collect(1:n)\n",
    "    b_ = copy(b)\n",
    "\n",
    "    # U\n",
    "    md = copy(main_diag)      # main diagonal\n",
    "    sd = copy(super_diag)     # super diagonal\n",
    "    ssd = zeros(n-2)          # super super diagonal (created by pivoting)\n",
    "\n",
    "    # for L\n",
    "    multipliers = zeros(n-1)   # elimination multipliers\n",
    "\n",
    "    for i in 1:(n-1)\n",
    "        # pivot if element below is larger\n",
    "        if abs(sub_diag[i]) > abs(md[i])\n",
    "            # swap permutation rows and solution rows\n",
    "            p[i], p[i+1] = p[i+1], p[i]\n",
    "            b_[i], b_[i+1] = b_[i+1], b_[i]\n",
    "\n",
    "            # in triangular matrix, there are only three elements in a row\n",
    "\n",
    "            # swap main diagonal and sub diagonal\n",
    "            md[i], sub_diag[i] = sub_diag[i], md[i]\n",
    "            # swap super diagonal and main diagonal\n",
    "            md[i+1], sd[i] = sd[i], md[i+1]\n",
    "            # swap super super diagonal and super diagonal\n",
    "            if i < n-1\n",
    "                sd[i+1], ssd[i] = ssd[i], sd[i+1]\n",
    "            end\n",
    "        end\n",
    "\n",
    "        if md[i] != 0\n",
    "            multiplier = sub_diag[i] / md[i]\n",
    "            multipliers[i] = multiplier\n",
    "\n",
    "            # r_(i+1) = r_(i+1) - multiplier * r_i\n",
    "            md[i+1] = md[i+1] - multiplier * sd[i]\n",
    "            if i < n-1\n",
    "                sd[i+1] = sd[i+1] - multiplier * ssd[i]\n",
    "            end\n",
    "            b_[i+1] = b_[i+1] - multiplier * b_[i]\n",
    "        end\n",
    "    end\n",
    "\n",
    "    # backward substitution\n",
    "    x[n] = b_[n] / md[n]\n",
    "    for i in (n-1):-1:1\n",
    "        sum = b_[i]\n",
    "        if i < n\n",
    "            sum -= sd[i] * x[i+1]\n",
    "        end\n",
    "        if i < n-1\n",
    "            sum -= ssd[i] * x[i+2]\n",
    "        end\n",
    "        x[i] = sum / md[i]\n",
    "    end\n",
    "\n",
    "    return x\n",
    "end"
   ]
  },
  {
   "cell_type": "code",
   "execution_count": 20,
   "metadata": {},
   "outputs": [
    {
     "name": "stdout",
     "output_type": "stream",
     "text": [
      "\n",
      "Testing 10x10 system:\n",
      "Difference: 0.0\n",
      "\n",
      "Testing 100x100 system:\n",
      "Difference: 0.0\n"
     ]
    }
   ],
   "source": [
    "using LinearAlgebra\n",
    "\n",
    "function generate_diags(n)\n",
    "    # Create diagonals for our tridiagonal matrix\n",
    "    main_diag = rand(n)\n",
    "    super_diag = rand(n-1)\n",
    "    sub_diag = rand(n-1)\n",
    "    \n",
    "    A = diagm(\n",
    "        -1 => sub_diag,\n",
    "        0 => main_diag,\n",
    "        1 => super_diag)\n",
    "    \n",
    "    b = rand(n)\n",
    "\n",
    "    return A, b, main_diag, super_diag, sub_diag\n",
    "end\n",
    "\n",
    "\n",
    "# Test 10x10\n",
    "println(\"\\nTesting 10x10 system:\")\n",
    "n = 10\n",
    "A, b, md, sd, subd = create_test_system(n)\n",
    "\n",
    "x1 = solve_tri(b, md, sd, subd)\n",
    "\n",
    "x2 = A \\ b\n",
    "\n",
    "println(\"Difference: \", norm(x1 - x2))\n",
    "\n",
    "# Test 100x100\n",
    "println(\"\\nTesting 100x100 system:\")\n",
    "n = 100\n",
    "A, b, md, sd, subd = create_test_system(n)\n",
    "\n",
    "x1 = solve_tri(b, md, sd, subd)\n",
    "\n",
    "x2 = A \\ b\n",
    "\n",
    "println(\"Difference: \", norm(x1 - x2))"
   ]
  },
  {
   "cell_type": "code",
   "execution_count": null,
   "metadata": {},
   "outputs": [],
   "source": []
  }
 ],
 "metadata": {
  "kernelspec": {
   "display_name": "Julia 1.10.5",
   "language": "julia",
   "name": "julia-1.10"
  },
  "language_info": {
   "file_extension": ".jl",
   "mimetype": "application/julia",
   "name": "julia",
   "version": "1.10.5"
  }
 },
 "nbformat": 4,
 "nbformat_minor": 2
}
