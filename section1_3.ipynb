{
 "cells": [
  {
   "cell_type": "markdown",
   "metadata": {},
   "source": [
    "# Codes from Chapter 1 - Section 3 - Ascher and Greif - Second Edition\n",
    "\n",
    "## Example 1.4. \n",
    "\n",
    "A polynomial of degree $n$, given as $p_n(x)=c_0 +c_1x+\\ldots+c_nx^n$,\n",
    "requires $O(n^2)$ operations to evaluate at a fixed point $x$, if done in a brute force way without intermediate storing of powers of $x$. But using the nested form, also known as **Horner’s rule** and given by\n",
    "$$p_n(x) = (· · · ((c_nx + c_{n−1})x + c_{n−2})x · · · )x + c_0,$$\n",
    "suggests an evaluation algorithm which requires only $O(n)$ elementary operations, i.e., requiring linear (in $n$) rather than quadratic computation time. A Julia script for nested evaluation follows:"
   ]
  },
  {
   "cell_type": "code",
   "execution_count": 1,
   "metadata": {},
   "outputs": [
    {
     "name": "stdout",
     "output_type": "stream",
     "text": [
      "p(x0=2) is:20481\n"
     ]
    }
   ],
   "source": [
    "# Assume the polynomial coefficients are already stored\n",
    "# in array c such that for any real x,\n",
    "# p(x) = c[1] + c[2]*x + c[3]*x^2 + ... + c[n+1]*x^n\n",
    "n=10\n",
    "c=1:n+1\n",
    "x0=2\n",
    "p = c[n+1]\n",
    "for j in n:-1:1\n",
    "    p = p*x0 + c[j]\n",
    "end\n",
    "println(\"p(x0=2) is:\",p)"
   ]
  },
  {
   "cell_type": "markdown",
   "metadata": {},
   "source": [
    "Now, let us convert the above code into a Julia function and instead of using a particular value for $x=x_0$, this time we will evaluate using a **symbolic variable** $x$, i.e., arbitrary $x$."
   ]
  },
  {
   "cell_type": "code",
   "execution_count": 13,
   "metadata": {},
   "outputs": [
    {
     "name": "stdout",
     "output_type": "stream",
     "text": [
      "p(x) is: 1 + x*(2 + x*(3 + x*(4 + x*(5 + x*(6 + x*(7 + x*(8 + x*(9 + (10 + 11x)*x))))))))\n",
      "p(2) is: 20481\n",
      "p(2) using subsitution is: 20481\n"
     ]
    }
   ],
   "source": [
    "using Symbolics #try using SymPy as well\n",
    "\n",
    "# Define x as a symbolic variable\n",
    "@variables x\n",
    "\n",
    "#function for evaluating \n",
    "# p(x) = c[1] + c[2]*x + c[3]*x^2 + ... + c[n+1]*x^n\n",
    "#given c and x as inputs\n",
    "function hornersrule(c,x)\n",
    "    p = c[end]\n",
    "    for j in length(c)-1:-1:1\n",
    "        p = p*x + c[j]\n",
    "    end\n",
    "    return p\n",
    "end\n",
    "\n",
    "px=hornersrule(c,x)\n",
    "println(\"p(x) is: \",simplify(px))\n",
    "println(\"p(2) is: \", hornersrule(c,2))\n",
    "# since x is arbitrary, we can also calculate p(2) as\n",
    "println(\"p(2) using substitution is: \",substitute(px,x=>2))"
   ]
  },
  {
   "cell_type": "markdown",
   "metadata": {},
   "source": [
    "For more information about the Symbolics package, see: https://juliahub.com/ui/Packages/General/Symbolics"
   ]
  },
  {
   "cell_type": "markdown",
   "metadata": {},
   "source": [
    "## Example 1.5\n",
    "\n",
    "The problem of evaluating $y = f(x) = \\log(x)$ at $x = 1$ is ill-conditioned. This can be observed from $\\kappa(x) = \\frac{1}{| \\log(x)|} \\to \\infty$ as $x \\to 1$. The following script evaluates the\n",
    "function for two nearby values of $x$ and computes the relative errors in the input and in the\n",
    "output:"
   ]
  },
  {
   "cell_type": "code",
   "execution_count": 9,
   "metadata": {},
   "outputs": [
    {
     "name": "stdout",
     "output_type": "stream",
     "text": [
      "err_x is 9.9990000999889e-5\n",
      "err_y is 0.9999000149975839\n"
     ]
    }
   ],
   "source": [
    "x1=1+1e-4\n",
    "x2=1+2e-4\n",
    "y1=log(x1) \n",
    "y2=log(x2)\n",
    "err_x=abs((x2−x1 )/ x1) \n",
    "println(\"err_x is \",err_x)\n",
    "err_y=abs((y2−y1 )/ y1)\n",
    "println(\"err_y is $err_y\")"
   ]
  },
  {
   "cell_type": "markdown",
   "metadata": {},
   "source": [
    "The output confirms that for a small relative error in the values of $x$ we get a large relative error in the function values. We note that the absolute error is actually small in this case for the function values."
   ]
  },
  {
   "cell_type": "markdown",
   "metadata": {},
   "source": [
    "## Exercise for students \n",
    "\n",
    "Run the above code for $x=e=\\exp(1)$ and observe the output mentioned in Example 1.5 on Page 14."
   ]
  }
 ],
 "metadata": {
  "kernelspec": {
   "display_name": "Julia 1.10.5",
   "language": "julia",
   "name": "julia-1.10"
  },
  "language_info": {
   "file_extension": ".jl",
   "mimetype": "application/julia",
   "name": "julia",
   "version": "1.10.3"
  }
 },
 "nbformat": 4,
 "nbformat_minor": 2
}
