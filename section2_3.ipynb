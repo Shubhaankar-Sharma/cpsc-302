{
 "cells": [
  {
   "cell_type": "markdown",
   "metadata": {},
   "source": [
    "# Codes from Chapter 2 - Section 3 - Ascher and Greif - Second Edition\n",
    "\n",
    "## Example 2.4. \n",
    "\n",
    "Consider the equation\n",
    "$$f (x) = 2 \\cosh\\left(\\frac{x}{4}\\right) − x = 0.$$\n"
   ]
  },
  {
   "cell_type": "code",
   "execution_count": 1,
   "metadata": {},
   "outputs": [
    {
     "name": "stdout",
     "output_type": "stream",
     "text": [
      "iteration:1\n",
      "x_curr=2\n",
      "iteration:2\n",
      "x_curr=2.3451905066782954\n",
      "iteration:3\n",
      "x_curr=2.357534752954785\n",
      "iteration:4\n",
      "x_curr=2.357551053848946\n",
      "root is:2.3575510538774016\n"
     ]
    }
   ],
   "source": [
    "x_old=0\n",
    "x_curr=2\n",
    "tol=1e-8\n",
    "f(x)=2*cosh(x/4)-x\n",
    "fp(x)=0.5*sinh(x/4)-1\n",
    "i=0\n",
    "while (abs(x_old-x_curr)>tol)\n",
    "    i=i+1\n",
    "    x_old=x_curr\n",
    "    println(\"iteration:\",i)\n",
    "    x_curr=x_old-(f(x_old)/fp(x_old))\n",
    "    println(\"x_curr=\",x_old)\n",
    "end\n",
    "println(\"root is:\",x_curr)"
   ]
  },
  {
   "cell_type": "markdown",
   "metadata": {},
   "source": [
    "## Function for Newton's method"
   ]
  },
  {
   "cell_type": "code",
   "execution_count": 2,
   "metadata": {},
   "outputs": [
    {
     "data": {
      "text/plain": [
       "newton (generic function with 1 method)"
      ]
     },
     "metadata": {},
     "output_type": "display_data"
    }
   ],
   "source": [
    "function newton(f,fp,x_curr,tol)\n",
    "    x_old=x_curr-1\n",
    "    i=0\n",
    "    while (abs(x_old-x_curr)>tol)\n",
    "        i=i+1\n",
    "        x_old=x_curr\n",
    "        println(\"iteration:\",i)\n",
    "        x_curr=x_old-(f(x_old)/fp(x_old))\n",
    "        println(\"x_curr=\",x_old)\n",
    "    end\n",
    "    return x_curr\n",
    "end\n"
   ]
  },
  {
   "cell_type": "code",
   "execution_count": 3,
   "metadata": {},
   "outputs": [
    {
     "name": "stdout",
     "output_type": "stream",
     "text": [
      "iteration:1\n",
      "x_curr=2\n",
      "iteration:2\n",
      "x_curr=2.3451905066782954\n",
      "iteration:3\n",
      "x_curr=2.357534752954785\n",
      "iteration:4\n",
      "x_curr=2.357551053848946\n",
      "Root by using Newton's method is: 2.3575510538774016\n"
     ]
    }
   ],
   "source": [
    "root=newton(f,fp,2,1e-8)\n",
    "println(\"Root by using Newton's method is: \",root)"
   ]
  },
  {
   "cell_type": "markdown",
   "metadata": {},
   "source": [
    "## Function for Secant method"
   ]
  },
  {
   "cell_type": "code",
   "execution_count": 4,
   "metadata": {},
   "outputs": [
    {
     "data": {
      "text/plain": [
       "secant (generic function with 1 method)"
      ]
     },
     "metadata": {},
     "output_type": "display_data"
    }
   ],
   "source": [
    "function secant(f,x0,x1,tol)\n",
    "    f0=f(x0)\n",
    "    f1=f(x1)\n",
    "    x_new=0\n",
    "    i=0\n",
    "    while (abs(x0-x1)>tol)\n",
    "        i=i+1\n",
    "        println(\"iteration:\",i)\n",
    "        x_new=x1-((f1*(x1-x0))/(f1-f0))\n",
    "        x0=x1\n",
    "        x1=x_new\n",
    "        f0=f1\n",
    "        f1=f(x1)\n",
    "        println(\"x_new=\",x_new)\n",
    "    end\n",
    "    return x_new\n",
    "end\n"
   ]
  },
  {
   "cell_type": "code",
   "execution_count": 5,
   "metadata": {},
   "outputs": [
    {
     "name": "stdout",
     "output_type": "stream",
     "text": [
      "iteration:1\n",
      "x_new=8.34713581055327\n",
      "iteration:2\n",
      "x_new=8.529995038635095\n",
      "iteration:3\n",
      "x_new=8.506269234088522\n",
      "iteration:4\n",
      "x_new=8.507194307035025\n",
      "iteration:5\n",
      "x_new=8.507199571933118\n",
      "iteration:6\n",
      "x_new=8.507199570713023\n",
      "Root by using secant method is: 8.507199570713023\n"
     ]
    }
   ],
   "source": [
    "root=secant(f,10,8,1e-8)\n",
    "println(\"Root by using secant method is: \",root)"
   ]
  },
  {
   "cell_type": "markdown",
   "metadata": {},
   "source": [
    "## Exercise for students\n",
    "\n",
    "Calculate the squareroot of 2 by using the Newton's method and secant method."
   ]
  }
 ],
 "metadata": {
  "kernelspec": {
   "display_name": "Julia 1.10.3",
   "language": "julia",
   "name": "julia-1.10"
  },
  "language_info": {
   "file_extension": ".jl",
   "mimetype": "application/julia",
   "name": "julia",
   "version": "1.10.3"
  }
 },
 "nbformat": 4,
 "nbformat_minor": 2
}
