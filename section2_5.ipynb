{
 "cells": [
  {
   "cell_type": "markdown",
   "metadata": {},
   "source": [
    "# Codes from Chapter 2 - Section 3 - Ascher and Greif - Second Edition\n",
    "## Example 2.9\n",
    "Let us revisit Example 2.3, f (x) = x + ln(x) = 0. There are several ways to rewrite the equation f(x) = 0 as x = g(x) and seek a fixed point. Let us look at two possible ways:\n",
    "\n",
    "**(i)** $g_1(x)=-\\ln (x)$\n",
    "\n",
    "**(ii)** $g_2(x)=e^{-x}$\n",
    "\n",
    "For the function $g_1(x)$ the fixed point iterations do not converge, as seen in lecture, however for $g_2(x) = e^{−x}$ things are much better. First, we observe that $g_2$ is continuous and monotonically decreasing on $[0, 1]$ with $g_2 (0) = e^0 = 1$ and $g_2 (1) = e^{−1} = 0.3679$. Secondly, we observe that $g_2^\\prime (x) = −e^{−x}$ and therefore $|g^\\prime(x)| < 1$ for $0 < x < 1$. Therefore we have a unique fixed point in the interval as per the Fixed-Point Theorem."
   ]
  },
  {
   "cell_type": "code",
   "execution_count": 9,
   "metadata": {},
   "outputs": [],
   "source": [
    "using Plots\n",
    "\n",
    "# Perform fixed-point iterations\n",
    "function fixed_point_iterations(g, x_initial, atol)\n",
    "    x_vals=[Float64(x_initial)]\n",
    "    x1=x_initial\n",
    "    x0=x1-1\n",
    "    # Store initial value\n",
    "    while abs(x0-x1) > atol\n",
    "        x0=x1\n",
    "        x1 = g(x0)  # Apply the function g\n",
    "        push!(x_vals,x1)\n",
    "    end\n",
    "    return x_vals\n",
    "end\n",
    "\n",
    "# Plot y = x, y = g(x), and the fixed-point iterations\n",
    "function plot_fixed_point(g, x0, atol, x_min, x_max)\n",
    "    # Generate x values for plotting the curves\n",
    "    xs = range(x_min, x_max, length=100)\n",
    "    \n",
    "    # Perform fixed-point iterations\n",
    "    x_vals = fixed_point_iterations(g, x0, atol)\n",
    "    max_iters=length(x_vals)-1\n",
    "\n",
    "    # Create the plot\n",
    "    plot(xs, xs, label=\"y = x\", xlabel=\"x\", ylabel=\"y\", lw=2)  # Plot y = x\n",
    "    plot!(xs, g.(xs), label=\"y = e^{-x}\", lw=2)                # Plot y = e^(-x)\n",
    "    \n",
    "    # Plot the iterations\n",
    "    for i in 1:max_iters\n",
    "        plot!([x_vals[i], x_vals[i]], [x_vals[i], x_vals[i+1]], color=:red, lw=1, label=false)  # Vertical line\n",
    "        plot!([x_vals[i], x_vals[i+1]], [x_vals[i+1], x_vals[i+1]], color=:blue, lw=1, label=false)  # Horizontal line\n",
    "    end\n",
    "    \n",
    "    # Mark the iterations with points\n",
    "    scatter!(x_vals, g.(x_vals), label=\"Iterations\", color=:black, marker=:circle)\n",
    "end\n",
    "\n"
   ]
  },
  {
   "cell_type": "code",
   "execution_count": null,
   "metadata": {},
   "outputs": [],
   "source": [
    "# Parameters for the fixed-point iteration\n",
    "x0 = 1.0  # Initial guess\n",
    "atol = 1e-6  #absolute tolerance\n",
    "x_min = 0  # Min x value for the plot\n",
    "x_max = 1.1  # Max x value for the plot\n",
    "\n",
    "# Define the function g(x) = e^(-x)\n",
    "g2(x) = exp(-x)\n",
    "\n",
    "# Call the plot function\n",
    "plot_fixed_point(g2, x0, atol, x_min, x_max)"
   ]
  },
  {
   "cell_type": "markdown",
   "metadata": {},
   "source": [
    "## Example 2.10. \n",
    "\n",
    "Consider once more the problem\n",
    "$$f (x) = 2 \\cosh\\left(\\frac{x}{4}\\right) − x = 0.$$\n",
    "\n",
    "We saw in Example 2.4 that there are two roots. Let us attempt to solve the problem using a fixed-point iteration. Setting\n",
    "\n",
    "$$g(x) = 2 \\cosh\\left(\\frac{x}{4}\\right)$$\n",
    "\n",
    "Let's plot it first to see its fixed points."
   ]
  },
  {
   "cell_type": "code",
   "execution_count": null,
   "metadata": {},
   "outputs": [],
   "source": [
    "g(x)=2cosh(x/4)\n",
    "\n",
    "xs = range(0, 10, length=100)\n",
    "# Create the plot\n",
    "plot(xs, xs, label=\"y = x\", xlabel=\"x\", ylabel=\"y\", lw=2)  # Plot y = x\n",
    "plot!(xs, g.(xs), label=\"y = 2cosh(x/4)\", lw=2)                # Plot y = 2cosh(x/4)"
   ]
  },
  {
   "cell_type": "markdown",
   "metadata": {},
   "source": [
    "there are two fixed points (i.e., roots of $f(x) = 0$) – let’s call them $x_1$ and $x_2$ – but also that we can bracket them\n",
    "\n",
    "$$ 2\\leq x_1^*\\leq 4$$\n",
    "\n",
    "$$ 8\\leq x_2^*\\leq 10$$"
   ]
  },
  {
   "cell_type": "code",
   "execution_count": null,
   "metadata": {},
   "outputs": [],
   "source": [
    "# Define the recursive bisection function\n",
    "function bisection_recursive(func, a, b, fa, fb, atol, ftol)\n",
    "    p = (a + b) / 2  # Midpoint\n",
    "\n",
    "    # Base case: If the interval is smaller than the tolerance\n",
    "    if (b - a) < 2 * atol\n",
    "        return p\n",
    "    else\n",
    "        fp = func(p)  # Evaluate the function at the midpoint\n",
    "\n",
    "        # Base case: If the function value is smaller than the tolerance\n",
    "        if abs(fp) < ftol\n",
    "            return p\n",
    "        end\n",
    "\n",
    "        # Recursive case: Narrow down the interval\n",
    "        if fa * fp < 0\n",
    "            b = p\n",
    "            fb = fp\n",
    "        else\n",
    "            a = p\n",
    "            fa = fp\n",
    "        end\n",
    "\n",
    "        # Recursive call\n",
    "        return bisection_recursive(func, a, b, fa, fb, atol, ftol)\n",
    "    end\n",
    "end"
   ]
  },
  {
   "cell_type": "code",
   "execution_count": null,
   "metadata": {},
   "outputs": [],
   "source": [
    "f(x)=x-2cosh(x/4)\n",
    "x1_exact=bisection_recursive(f,2,4,f(2),f(4),1e-8,1e-8)"
   ]
  },
  {
   "cell_type": "markdown",
   "metadata": {},
   "source": [
    "### Exercise in class\n",
    "\n",
    "(a) Call **bisection** method from section2_2.ipynb on $f(x)=\\cosh\\left(\\frac{x}{4}\\right) − x $ for calculating $x_2^*$ correct to an absolute tolerance 1.e-8 with $[8,10]$.\n",
    "\n",
    "(b)  Use the same function $g$, for defining the iteration $x_{k+1} =2\\cosh\\left(\\frac{x_k}{4}\\right)$ and call the \"fixed_point_iterations\" function for $g$ with the following initial points and atol=1e-10:\n",
    "    (i) $x_0=4$\n",
    "    (ii) $x_0=10$\n",
    "    (iii) $x_0=8$\n"
   ]
  },
  {
   "cell_type": "markdown",
   "metadata": {},
   "source": [
    "## Example 2.11"
   ]
  },
  {
   "cell_type": "code",
   "execution_count": null,
   "metadata": {},
   "outputs": [],
   "source": [
    "function newton(f,fp,x_curr,tol)\n",
    "    x_old=x_curr-1\n",
    "    i=0\n",
    "    x_vals=[Float64(x_curr)]\n",
    "    while (abs(x_old-x_curr)>tol)\n",
    "        i=i+1\n",
    "        x_old=x_curr\n",
    "        println(\"iteration:\",i)\n",
    "        x_curr=x_old-(f(x_old)/fp(x_old))\n",
    "        println(\"x_curr=$x_curr, f(x_curr)=\",f(x_curr))\n",
    "        push!(x_vals,x_curr)\n",
    "    end\n",
    "    return x_curr,x_vals\n",
    "end\n",
    "function secant(f,x0,x1,tol)\n",
    "    f0=f(x0)\n",
    "    f1=f(x1)\n",
    "    x_new=0\n",
    "    i=0\n",
    "    x_vals=[Float64(x0);Float64(x1)]\n",
    "    while (abs(x0-x1)>tol)\n",
    "        i=i+1\n",
    "        println(\"iteration:\",i)\n",
    "        x_new=x1-((f1*(x1-x0))/(f1-f0))\n",
    "        x0=x1\n",
    "        x1=x_new\n",
    "        f0=f1\n",
    "        f1=f(x1)\n",
    "        println(\"x_new=\",x_new)\n",
    "        push!(x_vals,x1)\n",
    "    end\n",
    "    return x_new,x_vals\n",
    "end"
   ]
  },
  {
   "cell_type": "code",
   "execution_count": null,
   "metadata": {},
   "outputs": [],
   "source": [
    "fp(x)=1-0.5sinh(x/4)\n",
    "println(\"Newton's\")\n",
    "x_newton, x_vals_newton = newton(f,fp,2,1e-10)\n",
    "println(\"Secant\")\n",
    "x_secant, x_vals_secant = secant(f,4,2,1e-10)\n",
    "plot(1:length(x_vals_newton),abs.(x_vals_newton .- x1_exact),label=\"newton\",color=:blue,marker=:circle,yscale=:log10)\n",
    "plot!(1:length(x_vals_secant),abs.(x_vals_secant .- x1_exact),label=\"secant\",color=:red,marker=:circle,yscale=:log10)\n",
    "\n"
   ]
  },
  {
   "cell_type": "markdown",
   "metadata": {},
   "source": [
    "### Exercise for students\n",
    "\n",
    "Add fixed point iterations for $g(x)$ to this plot with $x_0=2$."
   ]
  }
 ],
 "metadata": {
  "kernelspec": {
   "display_name": "Julia 1.10.3",
   "language": "julia",
   "name": "julia-1.10"
  },
  "language_info": {
   "file_extension": ".jl",
   "mimetype": "application/julia",
   "name": "julia",
   "version": "1.10.3"
  }
 },
 "nbformat": 4,
 "nbformat_minor": 2
}
