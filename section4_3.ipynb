{
 "cells": [
  {
   "cell_type": "markdown",
   "metadata": {},
   "source": [
    "# Chapter 4 - Section 3 - Ascher and Greif - Second Edition"
   ]
  },
  {
   "cell_type": "markdown",
   "metadata": {},
   "source": [
    "## Forward Substitution"
   ]
  },
  {
   "cell_type": "code",
   "execution_count": null,
   "metadata": {},
   "outputs": [
    {
     "data": {
      "text/plain": [
       "forsub_org (generic function with 1 method)"
      ]
     },
     "execution_count": 1,
     "metadata": {},
     "output_type": "execute_result"
    }
   ],
   "source": [
    "function forsub_org(A, b, p)\n",
    "    n = length(b)\n",
    "    y = zeros(n)\n",
    "    \n",
    "    # Permute b according to p\n",
    "    b = b[p]\n",
    "    \n",
    "    # Forward substitution\n",
    "    y[1] = b[1]\n",
    "    for k = 2:n\n",
    "        y[k] = (b[k] - A[k, 1:k-1]' * y[1:k-1])/A[k,k]\n",
    "    end\n",
    "    return y\n",
    "end\n"
   ]
  },
  {
   "cell_type": "code",
   "execution_count": 2,
   "metadata": {},
   "outputs": [
    {
     "data": {
      "text/plain": [
       "3×3 Matrix{Int64}:\n",
       " 1  0  0\n",
       " 2  3  0\n",
       " 4  5  6"
      ]
     },
     "execution_count": 2,
     "metadata": {},
     "output_type": "execute_result"
    }
   ],
   "source": [
    "L=[1 0 0;2 3 0;4 5 6]\n"
   ]
  },
  {
   "cell_type": "code",
   "execution_count": 3,
   "metadata": {},
   "outputs": [
    {
     "data": {
      "text/plain": [
       "3-element Vector{Float64}:\n",
       "  1.0\n",
       " -0.3333333333333333\n",
       " -0.22222222222222224"
      ]
     },
     "execution_count": 3,
     "metadata": {},
     "output_type": "execute_result"
    }
   ],
   "source": [
    "forsub_org(L,ones(3),[1;2;3])"
   ]
  },
  {
   "cell_type": "markdown",
   "metadata": {},
   "source": [
    "### Comparison of forward substituion with preprogrammed linear system solver in Julia"
   ]
  },
  {
   "cell_type": "code",
   "execution_count": 4,
   "metadata": {},
   "outputs": [
    {
     "data": {
      "text/plain": [
       "3-element Vector{Float64}:\n",
       "  1.0\n",
       " -0.3333333333333333\n",
       " -0.22222222222222224"
      ]
     },
     "execution_count": 4,
     "metadata": {},
     "output_type": "execute_result"
    }
   ],
   "source": [
    "L\\ones(3)"
   ]
  },
  {
   "cell_type": "markdown",
   "metadata": {},
   "source": [
    "## Backward Substitution"
   ]
  },
  {
   "cell_type": "code",
   "execution_count": 5,
   "metadata": {},
   "outputs": [
    {
     "data": {
      "text/plain": [
       "backsub (generic function with 1 method)"
      ]
     },
     "execution_count": 5,
     "metadata": {},
     "output_type": "execute_result"
    }
   ],
   "source": [
    "function backsub(A, b)\n",
    "    n = length(b)\n",
    "    x = copy(b)\n",
    "    \n",
    "    # Backward substitution\n",
    "    x[n] = b[n] / A[n, n]\n",
    "    for k = n-1:-1:1\n",
    "        x[k] = (b[k] - A[k, k+1:n]' * x[k+1:n]) / A[k, k]\n",
    "    end\n",
    "    \n",
    "    return x\n",
    "end\n"
   ]
  },
  {
   "cell_type": "code",
   "execution_count": 6,
   "metadata": {},
   "outputs": [
    {
     "data": {
      "text/plain": [
       "3×3 Matrix{Int64}:\n",
       " 1  2  3\n",
       " 0  4  5\n",
       " 0  0  6"
      ]
     },
     "execution_count": 6,
     "metadata": {},
     "output_type": "execute_result"
    }
   ],
   "source": [
    "U=[1 2 3;0 4 5;0 0 6]"
   ]
  },
  {
   "cell_type": "code",
   "execution_count": 7,
   "metadata": {},
   "outputs": [
    {
     "data": {
      "text/plain": [
       "3-element Vector{Float64}:\n",
       " 0.41666666666666663\n",
       " 0.041666666666666685\n",
       " 0.16666666666666666"
      ]
     },
     "execution_count": 7,
     "metadata": {},
     "output_type": "execute_result"
    }
   ],
   "source": [
    "backsub(U,ones(3))"
   ]
  },
  {
   "cell_type": "markdown",
   "metadata": {},
   "source": [
    "### Comparison of solution of back-substitution with preprogrammed linear system solver in Julia"
   ]
  },
  {
   "cell_type": "code",
   "execution_count": 8,
   "metadata": {},
   "outputs": [
    {
     "data": {
      "text/plain": [
       "3-element Vector{Float64}:\n",
       " 0.41666666666666663\n",
       " 0.041666666666666685\n",
       " 0.16666666666666666"
      ]
     },
     "execution_count": 8,
     "metadata": {},
     "output_type": "execute_result"
    }
   ],
   "source": [
    "U\\ones(3)"
   ]
  },
  {
   "cell_type": "markdown",
   "metadata": {},
   "source": [
    "## GEPP or PLU decompostion function"
   ]
  },
  {
   "cell_type": "code",
   "execution_count": 9,
   "metadata": {},
   "outputs": [
    {
     "data": {
      "text/plain": [
       "plu (generic function with 1 method)"
      ]
     },
     "execution_count": 9,
     "metadata": {},
     "output_type": "execute_result"
    }
   ],
   "source": [
    "function plu(B)\n",
    "    A=Float64.(copy(B))\n",
    "    n = size(A, 1)\n",
    "    \n",
    "    # Initialize permutation vector p\n",
    "    p = collect(1:n)\n",
    "    \n",
    "    # LU decomposition with partial pivoting\n",
    "    for k = 1:n-1\n",
    "        # Find row index of the maximum element in column k (for partial pivoting)\n",
    "        _, q = findmax(abs.(A[k:n, k]))\n",
    "        q = q + k - 1\n",
    "        \n",
    "        # Interchange rows k and q and record this in p\n",
    "        A[[k; q], :] = A[[q; k], :]\n",
    "        p[[k; q]] = p[[q; k]]\n",
    "        \n",
    "        # Compute the corresponding column of L\n",
    "        J = k+1:n\n",
    "        A[J, k] .= A[J, k] / A[k, k]\n",
    "        \n",
    "        # Update submatrix by outer product\n",
    "        A[J, J] .-= A[J, k] * A[k, J]'\n",
    "    end\n",
    "    \n",
    "    return p, A\n",
    "end\n"
   ]
  },
  {
   "cell_type": "code",
   "execution_count": 21,
   "metadata": {},
   "outputs": [
    {
     "data": {
      "text/plain": [
       "3×3 Matrix{Int64}:\n",
       " 1  0  3\n",
       " 0  1  6\n",
       " 7  1  9"
      ]
     },
     "execution_count": 21,
     "metadata": {},
     "output_type": "execute_result"
    }
   ],
   "source": [
    "A=[1 0 3;0 1 6;7 1 9]"
   ]
  },
  {
   "cell_type": "code",
   "execution_count": 11,
   "metadata": {},
   "outputs": [
    {
     "data": {
      "text/plain": [
       "([3, 2, 1], [7.0 1.0 9.0; 0.0 1.0 6.0; 0.14285714285714285 -0.14285714285714285 2.5714285714285716])"
      ]
     },
     "execution_count": 11,
     "metadata": {},
     "output_type": "execute_result"
    }
   ],
   "source": [
    "p,LUa=plu(A)"
   ]
  },
  {
   "cell_type": "code",
   "execution_count": 12,
   "metadata": {},
   "outputs": [
    {
     "data": {
      "text/plain": [
       "3-element Vector{Int64}:\n",
       " 3\n",
       " 2\n",
       " 1"
      ]
     },
     "execution_count": 12,
     "metadata": {},
     "output_type": "execute_result"
    }
   ],
   "source": [
    "p #vector of row-exchanges"
   ]
  },
  {
   "cell_type": "code",
   "execution_count": 13,
   "metadata": {},
   "outputs": [
    {
     "data": {
      "text/plain": [
       "3×3 Matrix{Float64}:\n",
       " 7.0        1.0       9.0\n",
       " 0.0        1.0       6.0\n",
       " 0.142857  -0.142857  2.57143"
      ]
     },
     "execution_count": 13,
     "metadata": {},
     "output_type": "execute_result"
    }
   ],
   "source": [
    "LUa "
   ]
  },
  {
   "cell_type": "markdown",
   "metadata": {},
   "source": [
    "**Important:** LUa is the matrix with strict lower-triangular part (not including diagonal) = strict lower triangular part of unit lower triangular matrix L in LU decomposition and upper-triangular part (including diagonal) as the upper-triangular matrix U in LU decomposition"
   ]
  },
  {
   "cell_type": "markdown",
   "metadata": {},
   "source": [
    "### Comparision with preprogrammed PLU decomposition in Julia"
   ]
  },
  {
   "cell_type": "code",
   "execution_count": 14,
   "metadata": {},
   "outputs": [
    {
     "data": {
      "text/plain": [
       "LU{Float64, Matrix{Float64}, Vector{Int64}}\n",
       "L factor:\n",
       "3×3 Matrix{Float64}:\n",
       " 1.0        0.0       0.0\n",
       " 0.0        1.0       0.0\n",
       " 0.142857  -0.142857  1.0\n",
       "U factor:\n",
       "3×3 Matrix{Float64}:\n",
       " 7.0  1.0  9.0\n",
       " 0.0  1.0  6.0\n",
       " 0.0  0.0  2.57143"
      ]
     },
     "execution_count": 14,
     "metadata": {},
     "output_type": "execute_result"
    }
   ],
   "source": [
    "using LinearAlgebra\n",
    "L,U,p=lu(A)"
   ]
  },
  {
   "cell_type": "code",
   "execution_count": 15,
   "metadata": {},
   "outputs": [
    {
     "data": {
      "text/plain": [
       "3×3 Matrix{Float64}:\n",
       " 1.0        0.0       0.0\n",
       " 0.0        1.0       0.0\n",
       " 0.142857  -0.142857  1.0"
      ]
     },
     "execution_count": 15,
     "metadata": {},
     "output_type": "execute_result"
    }
   ],
   "source": [
    "L "
   ]
  },
  {
   "cell_type": "code",
   "execution_count": 16,
   "metadata": {},
   "outputs": [
    {
     "data": {
      "text/plain": [
       "3×3 Matrix{Float64}:\n",
       " 7.0  1.0  9.0\n",
       " 0.0  1.0  6.0\n",
       " 0.0  0.0  2.57143"
      ]
     },
     "execution_count": 16,
     "metadata": {},
     "output_type": "execute_result"
    }
   ],
   "source": [
    "U"
   ]
  },
  {
   "cell_type": "code",
   "execution_count": 17,
   "metadata": {},
   "outputs": [
    {
     "data": {
      "text/plain": [
       "3-element Vector{Int64}:\n",
       " 3\n",
       " 2\n",
       " 1"
      ]
     },
     "execution_count": 17,
     "metadata": {},
     "output_type": "execute_result"
    }
   ],
   "source": [
    "p"
   ]
  },
  {
   "cell_type": "code",
   "execution_count": 18,
   "metadata": {},
   "outputs": [
    {
     "data": {
      "text/plain": [
       "LU{Float64, Matrix{Float64}, Vector{Int64}}\n",
       "L factor:\n",
       "3×3 Matrix{Float64}:\n",
       " 1.0        0.0       0.0\n",
       " 0.0        1.0       0.0\n",
       " 0.142857  -0.142857  1.0\n",
       "U factor:\n",
       "3×3 Matrix{Float64}:\n",
       " 7.0  1.0  9.0\n",
       " 0.0  1.0  6.0\n",
       " 0.0  0.0  2.57143"
      ]
     },
     "execution_count": 18,
     "metadata": {},
     "output_type": "execute_result"
    }
   ],
   "source": [
    "## or try this way\n",
    "a=lu(A)"
   ]
  },
  {
   "cell_type": "code",
   "execution_count": 19,
   "metadata": {},
   "outputs": [
    {
     "data": {
      "text/plain": [
       "3×3 Matrix{Float64}:\n",
       " 1.0        0.0       0.0\n",
       " 0.0        1.0       0.0\n",
       " 0.142857  -0.142857  1.0"
      ]
     },
     "execution_count": 19,
     "metadata": {},
     "output_type": "execute_result"
    }
   ],
   "source": [
    "a.L"
   ]
  },
  {
   "cell_type": "code",
   "execution_count": 20,
   "metadata": {},
   "outputs": [
    {
     "data": {
      "text/plain": [
       "3×3 Matrix{Float64}:\n",
       " 7.0  1.0  9.0\n",
       " 0.0  1.0  6.0\n",
       " 0.0  0.0  2.57143"
      ]
     },
     "execution_count": 20,
     "metadata": {},
     "output_type": "execute_result"
    }
   ],
   "source": [
    "a.U"
   ]
  },
  {
   "cell_type": "code",
   "execution_count": 21,
   "metadata": {},
   "outputs": [
    {
     "data": {
      "text/plain": [
       "3-element Vector{Int64}:\n",
       " 3\n",
       " 2\n",
       " 1"
      ]
     },
     "execution_count": 21,
     "metadata": {},
     "output_type": "execute_result"
    }
   ],
   "source": [
    "a.p"
   ]
  },
  {
   "cell_type": "code",
   "execution_count": 22,
   "metadata": {},
   "outputs": [
    {
     "data": {
      "text/plain": [
       "3×3 Matrix{Float64}:\n",
       " 0.0  0.0  1.0\n",
       " 0.0  1.0  0.0\n",
       " 1.0  0.0  0.0"
      ]
     },
     "execution_count": 22,
     "metadata": {},
     "output_type": "execute_result"
    }
   ],
   "source": [
    "a.P"
   ]
  },
  {
   "cell_type": "markdown",
   "metadata": {},
   "source": [
    "## Our very own linear system solver that uses LU decomposition"
   ]
  },
  {
   "cell_type": "code",
   "execution_count": 23,
   "metadata": {},
   "outputs": [
    {
     "data": {
      "text/plain": [
       "ainvb (generic function with 1 method)"
      ]
     },
     "execution_count": 23,
     "metadata": {},
     "output_type": "execute_result"
    }
   ],
   "source": [
    "function forsub(A, b, p) #forward substitution modified for unit lower triangular matrix\n",
    "    n = length(b)\n",
    "    y = zeros(n)\n",
    "    \n",
    "    # Permute b according to p\n",
    "    b = b[p]\n",
    "    \n",
    "    # Forward substitution\n",
    "    y[1] = b[1]\n",
    "    for k = 2:n\n",
    "        y[k] = (b[k] - A[k, 1:k-1]' * y[1:k-1])\n",
    "    end\n",
    "    \n",
    "    return y\n",
    "end\n",
    "\n",
    "\n",
    "function ainvb(A, b)\n",
    "    # Perform LU factorization with pivoting\n",
    "    p,LUa = plu(A)\n",
    "    \n",
    "    # Forward substitution\n",
    "    y = forsub(LUa,b,p)\n",
    "    \n",
    "    # Backward substitution\n",
    "    x = backsub(LUa,y)\n",
    "\n",
    "    return x\n",
    "end"
   ]
  },
  {
   "cell_type": "code",
   "execution_count": 24,
   "metadata": {},
   "outputs": [
    {
     "data": {
      "text/plain": [
       "3-element Vector{Float64}:\n",
       " -0.3333333333333333\n",
       " -2.666666666666666\n",
       "  0.44444444444444436"
      ]
     },
     "execution_count": 24,
     "metadata": {},
     "output_type": "execute_result"
    }
   ],
   "source": [
    "ainvb(A,[1;0;-1])"
   ]
  },
  {
   "cell_type": "markdown",
   "metadata": {},
   "source": [
    "### Comparison of ainvb with pre-programmed linear system solver in Julia"
   ]
  },
  {
   "cell_type": "code",
   "execution_count": 26,
   "metadata": {},
   "outputs": [
    {
     "data": {
      "text/plain": [
       "3-element Vector{Float64}:\n",
       " -0.3333333333333333\n",
       " -2.666666666666666\n",
       "  0.44444444444444436"
      ]
     },
     "execution_count": 26,
     "metadata": {},
     "output_type": "execute_result"
    }
   ],
   "source": [
    "A\\[1;0;-1]"
   ]
  },
  {
   "cell_type": "code",
   "execution_count": 53,
   "metadata": {},
   "outputs": [
    {
     "data": {
      "text/plain": [
       "matrixSolver (generic function with 1 method)"
      ]
     },
     "execution_count": 53,
     "metadata": {},
     "output_type": "execute_result"
    }
   ],
   "source": [
    "# matrix solver\n",
    "# Ax = b\n",
    "using LinearAlgebra\n",
    "\n",
    "function matrixSolver(A, b)\n",
    "    n = size(A)[1]\n",
    "    A = copy(A)  # Make copies and ensure Float64\n",
    "    b = copy(b)\n",
    "    L = Matrix{Float64}(I, n, n)  # Explicitly Float64 identity matrix\n",
    "    P = collect(1:n)\n",
    "    \n",
    "    # Forward elimination\n",
    "    for i = 1:n-1\n",
    "        # Pivot\n",
    "        _, k = findmax(abs.(A[i:n, i]))\n",
    "        k = k + i - 1  # Adjust index\n",
    "        \n",
    "        # Swap rows\n",
    "        A[k, :], A[i, :] = A[i, :], A[k, :]\n",
    "        b[k], b[i] = b[i], b[k]\n",
    "        P[k], P[i] = P[i], P[k]\n",
    "        \n",
    "        # Eliminate\n",
    "        for r = i+1:n\n",
    "            factor = A[r, i]/A[i, i]\n",
    "            A[r, :] -= factor * A[i, :]\n",
    "            L[r, i] = factor  # Now this will work with Float64\n",
    "        end\n",
    "    end\n",
    "\n",
    "    # Forward substitution (Ly = b)\n",
    "    y = zeros(Float64, n)  # Explicitly Float64\n",
    "    for row = 1:n\n",
    "        sum = 0.0  # Explicitly Float64\n",
    "        for prev = 1:row-1\n",
    "            sum += y[prev]*L[row,prev]\n",
    "        end\n",
    "        y[row] = b[row] - sum\n",
    "    end\n",
    "\n",
    "    # Backward substitution (Ux = y)\n",
    "    x = zeros(Float64, n)  # Explicitly Float64\n",
    "    for row = n:-1:1\n",
    "        prev_sum = 0.0  # Explicitly Float64\n",
    "        for prev = row+1:n\n",
    "            prev_sum += x[prev]*A[row,prev]\n",
    "        end\n",
    "        x[row] = (y[row] - prev_sum) / A[row,row]\n",
    "    end\n",
    "    \n",
    "    return x\n",
    "end\n"
   ]
  },
  {
   "cell_type": "code",
   "execution_count": 54,
   "metadata": {},
   "outputs": [
    {
     "data": {
      "text/plain": [
       "3-element Vector{Float64}:\n",
       " -0.3333333333333333\n",
       " -2.666666666666666\n",
       "  0.44444444444444436"
      ]
     },
     "execution_count": 54,
     "metadata": {},
     "output_type": "execute_result"
    }
   ],
   "source": [
    "A=Float64[1 0 3;0 1 6;7 1 9]\n",
    "matrixSolver(A,[1;0;-1])"
   ]
  },
  {
   "cell_type": "code",
   "execution_count": null,
   "metadata": {},
   "outputs": [
    {
     "data": {
      "text/plain": [
       "3-element Vector{Float64}:\n",
       " 0.0\n",
       " 0.0\n",
       " 0.3333333333333333"
      ]
     },
     "execution_count": 19,
     "metadata": {},
     "output_type": "execute_result"
    }
   ],
   "source": [
    "A\\b"
   ]
  },
  {
   "cell_type": "code",
   "execution_count": 2,
   "metadata": {},
   "outputs": [],
   "source": [
    "for i = 1:0\n",
    "    display(i)\n",
    "end"
   ]
  },
  {
   "cell_type": "code",
   "execution_count": 9,
   "metadata": {},
   "outputs": [
    {
     "name": "stdout",
     "output_type": "stream",
     "text": [
      "10987654321"
     ]
    }
   ],
   "source": [
    "for i = 10:-1:1\n",
    "    print(i)\n",
    "end"
   ]
  },
  {
   "cell_type": "code",
   "execution_count": 32,
   "metadata": {},
   "outputs": [
    {
     "data": {
      "text/plain": [
       "matrixSolverAgain (generic function with 1 method)"
      ]
     },
     "execution_count": 32,
     "metadata": {},
     "output_type": "execute_result"
    }
   ],
   "source": [
    "using LinearAlgebra\n",
    "\n",
    "function gaussian_elimination(U, L, p, b)\n",
    "    n = size(U)[1]\n",
    "    for column=1:n-1\n",
    "        # pivot matrix\n",
    "        _, k = findmax(U[column:n, column])\n",
    "        # k is relative\n",
    "        # row number to pivot is\n",
    "        # n - column + 1 is the length of the column from row... in those any elements our row is 0 + column and that is column + k -1\n",
    "        row_to_switch = column + k -1\n",
    "        # swap\n",
    "        U[column, :], U[row_to_switch, :] = U[row_to_switch, :], U[column, :]\n",
    "        p[column], p[row_to_switch] = p[row_to_switch], p[column]\n",
    "        b[column], b[row_to_switch] = b[row_to_switch], b[column]\n",
    "        \n",
    "        # now pivoting is done\n",
    "        # now we do elimination of column\n",
    "        for row=column+1:n\n",
    "            factor = U[row, column]/U[column, column]\n",
    "            U[row,column] = 0\n",
    "            for sub=column+1:n\n",
    "                U[row, sub] -= U[column, sub]*factor\n",
    "            end\n",
    "            L[row,column] = factor\n",
    "        end\n",
    "    end\n",
    "end\n",
    "\n",
    "function forward_elim(L, y, b)\n",
    "    # Ly = pb\n",
    "    n = size(L)[1]\n",
    "\n",
    "    for row=1:n\n",
    "        # we know y[1:row-1]\n",
    "        # eqn is L[row, 1:row] * y[1:row] = b[row]\n",
    "        # y[row] = b[row] - L[row, 1:row-1] * y[1:row-1]\n",
    "        y[row] = b[row] - transpose(L[row, 1:row-1]) * y[1:row-1]\n",
    "    end\n",
    "end\n",
    "    \n",
    "function backward_elim(U, x, y)\n",
    "    # Ux = y\n",
    "    n = size(U)[1]\n",
    "    for row=n:-1:1\n",
    "        # we know x[row+1:n]\n",
    "        x[row] = (y[row] - transpose(U[row, row+1:n])*x[row+1:n])/U[row,row]\n",
    "    end\n",
    "end\n",
    "\n",
    "function matrixSolverAgain(A, b)\n",
    "    n = size(A)[1]\n",
    "    L = Matrix{Float64}(I, n, n)\n",
    "    U = copy(A)\n",
    "    p = collect(1:n)\n",
    "\n",
    "    # let's form U and L using gaussian elimination\n",
    "    gaussian_elimination(U, L, p, b)\n",
    "    # now we have pA = LU\n",
    "    # LUx = pb\n",
    "\n",
    "    # now we have to do forward elimination\n",
    "    # Ly = pb\n",
    "    y = Float64.(zeros(n))\n",
    "    forward_elim(L, y, b)\n",
    "\n",
    "    x = Float64.(zeros(n))\n",
    "    backward_elim(U, x, y)\n",
    "    return x\n",
    "end\n"
   ]
  },
  {
   "cell_type": "code",
   "execution_count": 33,
   "metadata": {},
   "outputs": [
    {
     "data": {
      "text/plain": [
       "3-element Vector{Float64}:\n",
       " -0.3333333333333333\n",
       " -2.666666666666666\n",
       "  0.44444444444444436"
      ]
     },
     "metadata": {},
     "output_type": "display_data"
    },
    {
     "data": {
      "text/plain": [
       "3-element Vector{Float64}:\n",
       " -0.3333333333333333\n",
       " -2.666666666666666\n",
       "  0.44444444444444436"
      ]
     },
     "metadata": {},
     "output_type": "display_data"
    }
   ],
   "source": [
    "A=Float64[1 0 3;0 1 6;7 1 9]\n",
    "x = matrixSolverAgain(A,[1;0;-1])\n",
    "display(A\\[1;0;-1])\n",
    "display(x)\n"
   ]
  },
  {
   "cell_type": "code",
   "execution_count": null,
   "metadata": {},
   "outputs": [
    {
     "data": {
      "text/plain": [
       "-2.0"
      ]
     },
     "execution_count": 18,
     "metadata": {},
     "output_type": "execute_result"
    }
   ],
   "source": [
    "collect(1:)*Float64.([1;0;-1])[:]"
   ]
  },
  {
   "cell_type": "code",
   "execution_count": null,
   "metadata": {},
   "outputs": [],
   "source": []
  }
 ],
 "metadata": {
  "kernelspec": {
   "display_name": "Julia 1.11.1",
   "language": "julia",
   "name": "julia-1.11"
  },
  "language_info": {
   "file_extension": ".jl",
   "mimetype": "application/julia",
   "name": "julia",
   "version": "1.11.1"
  }
 },
 "nbformat": 4,
 "nbformat_minor": 4
}
