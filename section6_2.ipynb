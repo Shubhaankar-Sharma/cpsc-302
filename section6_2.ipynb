{
 "cells": [
  {
   "cell_type": "markdown",
   "id": "bec8d238-096d-4d7f-9bf9-73f5ee20177c",
   "metadata": {},
   "source": [
    "# Example for solving least squares problem using QR decomposition"
   ]
  },
  {
   "cell_type": "markdown",
   "id": "b2e73cdd-01f8-4e55-829c-0beefc01a962",
   "metadata": {},
   "source": [
    "**Matrix A**"
   ]
  },
  {
   "cell_type": "code",
   "execution_count": null,
   "id": "940c3dbb-05b8-4aff-a556-5d42caf7734f",
   "metadata": {},
   "outputs": [],
   "source": [
    "A = [ 1 0; 1 1; 1 2]"
   ]
  },
  {
   "cell_type": "markdown",
   "id": "527ba50d-94d8-4685-b60a-2f946f2e703e",
   "metadata": {},
   "source": [
    "**Vector b**"
   ]
  },
  {
   "cell_type": "code",
   "execution_count": null,
   "id": "3f7f4623-5135-45a8-b1a9-6cf641329c34",
   "metadata": {},
   "outputs": [],
   "source": [
    "b = [0.1; 0.9; 2.0]"
   ]
  },
  {
   "cell_type": "markdown",
   "id": "7321503c-3b44-4760-ac29-11b7c2f4d13d",
   "metadata": {},
   "source": [
    "## QR decomposition"
   ]
  },
  {
   "cell_type": "markdown",
   "id": "67a5bdf8-4049-444a-ab28-12c7b02623ef",
   "metadata": {},
   "source": [
    "**Need the following package**"
   ]
  },
  {
   "cell_type": "code",
   "execution_count": 3,
   "id": "e86ef34e-e5ed-47b0-9775-f3eb680a47d3",
   "metadata": {},
   "outputs": [],
   "source": [
    "using LinearAlgebra"
   ]
  },
  {
   "cell_type": "markdown",
   "id": "3496d8ae-3425-4420-a22d-fbdeef259945",
   "metadata": {},
   "source": [
    "*Built-in function*"
   ]
  },
  {
   "cell_type": "code",
   "execution_count": null,
   "id": "fbc8c3bf-8929-46e0-ae5e-7c65134565b9",
   "metadata": {},
   "outputs": [],
   "source": [
    "Q,R = qr(A); \n",
    "#Orthogonal matrix Q and Triangular matrix T\n",
    "Q*Matrix(I,3,3)"
   ]
  },
  {
   "cell_type": "code",
   "execution_count": null,
   "id": "0c56139a-aff4-4e24-8a76-2e4e7ee3d513",
   "metadata": {},
   "outputs": [],
   "source": [
    "R"
   ]
  },
  {
   "cell_type": "code",
   "execution_count": null,
   "id": "1fb6770f-edcb-481f-8a40-408a70ecad70",
   "metadata": {},
   "outputs": [],
   "source": [
    "v = Q'*b"
   ]
  },
  {
   "cell_type": "markdown",
   "id": "e99a67bc-8a4e-4b7d-be5c-0336e8f49dbf",
   "metadata": {},
   "source": [
    "**Define the partition for the RHS vector**"
   ]
  },
  {
   "cell_type": "code",
   "execution_count": null,
   "id": "56e0bd0c-2e92-494b-9d5c-9d0be208a416",
   "metadata": {},
   "outputs": [],
   "source": [
    "c = v[1:2]"
   ]
  },
  {
   "cell_type": "code",
   "execution_count": null,
   "id": "3b8f3498-08b8-4cc4-a395-c939861123dd",
   "metadata": {},
   "outputs": [],
   "source": [
    "d = v[end]"
   ]
  },
  {
   "cell_type": "markdown",
   "id": "51aaf70e-300f-4183-90e5-336e0140da43",
   "metadata": {},
   "source": [
    "**Solve the upper triangular system to get the optimal solution $x$**"
   ]
  },
  {
   "cell_type": "markdown",
   "id": "42bd7e54-4871-43bc-b7e4-cf1dc080f6f1",
   "metadata": {},
   "source": [
    "*Julia way: Back slash*"
   ]
  },
  {
   "cell_type": "code",
   "execution_count": null,
   "id": "9a7905b4-7cb7-4e63-81c2-1d454b7a932a",
   "metadata": {},
   "outputs": [],
   "source": [
    "x = R\\c #Rx=c"
   ]
  },
  {
   "cell_type": "markdown",
   "id": "9fcd3300-981f-4adb-ae1b-5703c20a9e34",
   "metadata": {},
   "source": [
    "*Traditional way: Back substitution*"
   ]
  },
  {
   "cell_type": "code",
   "execution_count": null,
   "id": "6b3d1a45-e1ec-4037-bff3-e980af62f6e1",
   "metadata": {},
   "outputs": [],
   "source": [
    "R"
   ]
  },
  {
   "cell_type": "code",
   "execution_count": null,
   "id": "3b00082a-3069-47ab-b7ab-580f9ff72f64",
   "metadata": {},
   "outputs": [],
   "source": [
    "c"
   ]
  },
  {
   "cell_type": "markdown",
   "id": "f2f4739a-7b48-4571-8c11-b3f778124542",
   "metadata": {},
   "source": [
    "That is, we have following $2\\times 2$ upper triangular linear system:\n",
    "\n",
    "$ Rx= c$\n",
    "\n",
    "$\\begin{bmatrix} r_{11} & r_{12}\\\\ 0 & r_{22}\\end{bmatrix}\\begin{bmatrix}x_1\\\\x_2\\end{bmatrix} = \\begin{bmatrix} c_1 \\\\ c_2 \\end{bmatrix}$\n",
    "\n",
    "or \n",
    "\n",
    "$$\\begin{align*}\n",
    "r_{11} x_1 + r_{12} x_2 &= c_1\\\\\n",
    "r_{22}x_2 &= c_2\n",
    "\\end{align*}$$\n",
    "\n",
    "\n",
    "**Back substitution gives**\n",
    "\n",
    "$x_2 = \\dfrac{c_2}{r_{22}}$\n",
    "\n",
    "$x_1 = \\dfrac{c_{1}- r_{12}x_2}{r_{11}}$\n",
    "\n"
   ]
  },
  {
   "cell_type": "code",
   "execution_count": null,
   "id": "c4efd18e-be41-4969-b220-e596f42def1a",
   "metadata": {},
   "outputs": [],
   "source": [
    "x2=c[2]/R[2,2]"
   ]
  },
  {
   "cell_type": "code",
   "execution_count": null,
   "id": "e330c1e0-c938-4e1e-9015-2dc8e61bf7f3",
   "metadata": {},
   "outputs": [],
   "source": [
    "x1=(c[1]-R[1,2]*x2)/R[1,1]"
   ]
  },
  {
   "cell_type": "code",
   "execution_count": null,
   "id": "843a61db-55ea-48d8-821f-6cff7cfba989",
   "metadata": {},
   "outputs": [],
   "source": [
    "x_back=[x1;x2]"
   ]
  },
  {
   "cell_type": "markdown",
   "id": "12e7354f-d637-48fc-beb4-1998410c3434",
   "metadata": {},
   "source": [
    "**Optimal residual is $\\Vert r \\Vert$**"
   ]
  },
  {
   "cell_type": "code",
   "execution_count": null,
   "id": "2c19fc2f-e6a1-47f5-b2f7-55a80e01629b",
   "metadata": {},
   "outputs": [],
   "source": [
    "norm_r = norm(d)"
   ]
  },
  {
   "cell_type": "markdown",
   "id": "ea8c92b0-aa75-4d20-925b-c6963ebd7bee",
   "metadata": {},
   "source": [
    "## Economy QR decomposition"
   ]
  },
  {
   "cell_type": "code",
   "execution_count": null,
   "id": "d33675dd-1025-4994-ae43-086322fb4367",
   "metadata": {},
   "outputs": [],
   "source": [
    "QQ=Q*Matrix(I,size(A)) # Truncated Q to size of A"
   ]
  },
  {
   "cell_type": "code",
   "execution_count": null,
   "id": "121d7f4f-666d-4cf4-9a5c-a6808e943a50",
   "metadata": {},
   "outputs": [],
   "source": [
    "RR=R*Matrix(I,2,2) # other way of truncating T is R = T[1:2,1:2]"
   ]
  },
  {
   "cell_type": "markdown",
   "id": "912ae9c7-3d03-4d28-9694-2f18681a0efc",
   "metadata": {},
   "source": [
    "**Right hand side for the triangular system**"
   ]
  },
  {
   "cell_type": "code",
   "execution_count": null,
   "id": "68606c61-1e2a-4a48-b0d3-259f37e613cd",
   "metadata": {},
   "outputs": [],
   "source": [
    "cc = QQ' * b # (2x3)*(3x1)"
   ]
  },
  {
   "cell_type": "code",
   "execution_count": null,
   "id": "711d009a-c08a-47c5-a0b4-f60fd8a186c9",
   "metadata": {},
   "outputs": [],
   "source": [
    "c # c from full QR"
   ]
  },
  {
   "cell_type": "markdown",
   "id": "ad974c07-724e-4708-9da6-7caf83cdb20c",
   "metadata": {},
   "source": [
    "**Solution of triangular system**"
   ]
  },
  {
   "cell_type": "code",
   "execution_count": null,
   "id": "dcf6fa2b-8325-4784-88f0-af7eb24cdab5",
   "metadata": {},
   "outputs": [],
   "source": [
    "xx = RR\\cc # solution from truncated system"
   ]
  },
  {
   "cell_type": "code",
   "execution_count": null,
   "id": "2a19f96a-8efe-480b-ad09-34c0aa722110",
   "metadata": {},
   "outputs": [],
   "source": [
    "x # solution from full QR"
   ]
  },
  {
   "cell_type": "markdown",
   "id": "e1617854-4235-4af8-af07-5b168b211340",
   "metadata": {},
   "source": [
    "**Residual**"
   ]
  },
  {
   "cell_type": "code",
   "execution_count": null,
   "id": "4d028f76-7c35-458d-a1ef-5c56d268086f",
   "metadata": {},
   "outputs": [],
   "source": [
    "dd= norm(b - A*xx) # residual from truncated"
   ]
  },
  {
   "cell_type": "markdown",
   "id": "6f858281-1dd4-4b11-af3d-fa386f2ef020",
   "metadata": {},
   "source": [
    "## Difference in solutions in 2-norm"
   ]
  },
  {
   "cell_type": "code",
   "execution_count": null,
   "id": "09201d30-87b6-48e6-8ccd-3095b3afa631",
   "metadata": {},
   "outputs": [],
   "source": [
    "norm(x-xx) # absolute"
   ]
  },
  {
   "cell_type": "code",
   "execution_count": null,
   "id": "d8a75749-6cbc-4103-8e98-87c2b9bfece0",
   "metadata": {},
   "outputs": [],
   "source": [
    "norm(x-xx) / norm(x) #relative"
   ]
  },
  {
   "cell_type": "markdown",
   "id": "636198dd-9bd6-4d8a-8919-0b0dc12f32f3",
   "metadata": {},
   "source": [
    "## Difference in residuals in 2-norm"
   ]
  },
  {
   "cell_type": "code",
   "execution_count": null,
   "id": "9411cb3d-89fe-42a1-b6ae-60771c61b20d",
   "metadata": {},
   "outputs": [],
   "source": [
    "norm(d-dd)  # absolute"
   ]
  },
  {
   "cell_type": "code",
   "execution_count": null,
   "id": "f408d197-c3dc-4f62-af47-eae4bf61fced",
   "metadata": {},
   "outputs": [],
   "source": [
    "norm(d-dd) / norm(d) #relative"
   ]
  }
 ],
 "metadata": {
  "kernelspec": {
   "display_name": "Julia 1.10.3",
   "language": "julia",
   "name": "julia-1.10"
  },
  "language_info": {
   "file_extension": ".jl",
   "mimetype": "application/julia",
   "name": "julia",
   "version": "1.10.3"
  }
 },
 "nbformat": 4,
 "nbformat_minor": 5
}
